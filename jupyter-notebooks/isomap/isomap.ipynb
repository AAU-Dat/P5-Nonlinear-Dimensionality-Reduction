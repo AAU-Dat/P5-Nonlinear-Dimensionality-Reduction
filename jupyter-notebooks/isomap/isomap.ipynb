{
 "cells": [
  {
   "cell_type": "markdown",
   "metadata": {},
   "source": [
    "The following notebook will contain a brief explanation of what isomap and MDS are, and examples of how isomap behaves with high-dimensional data. In particular the examples which will be shown are the **S-curve**, **handwritten digits**, and **severed sphere**."
   ]
  },
  {
   "cell_type": "markdown",
   "metadata": {},
   "source": [
    "### Isometric feature mapping (isomap)\n",
    "\n",
    "Isomap is an extension of Multidimensional Scaling(MDS). Isomap builds a neighborhood graph connecting the points on the manifold to each other if they are a K nearest neighbor(kNN). The length of each edge connecting the points corresponds to the Euclidean distance, which coincides with the geodesic distance on the manifold.\n",
    "\n",
    "\n",
    "Next thing is to compute the shortest path between two nodes from the new formed graph [Here Djikstra's algorithm can be used]. The result of this step is a matrix D which contains the shortest path distances between all pairs of points. Then the matrix D is passed as parameter to MDS so as embed the input data into a lower dimension.\n",
    "\n",
    "In MDS we create a new matrix by double centering the dissimilarity matrix; and then solve the equation $B_\\Delta=Q\\Lambda Q^\\top$ as a generalized eigenproblem. We choose $K$ eigenvectors with the highest $K$ eigenvalues More on that on the wiki about MDS/isomap.\n",
    "\n",
    "\n",
    "\n"
   ]
  },
  {
   "cell_type": "markdown",
   "metadata": {},
   "source": [
    "### S-curve"
   ]
  },
  {
   "cell_type": "markdown",
   "metadata": {},
   "source": [
    "We begin by importing the necessary libraries and plotting what we mean by a s-curve"
   ]
  },
  {
   "cell_type": "code",
   "execution_count": 29,
   "metadata": {},
   "outputs": [],
   "source": [
    "from numpy.random import RandomState\n",
    "import matplotlib.pyplot as plt\n",
    "from matplotlib import ticker\n",
    "import mpl_toolkits.mplot3d\n",
    "from sklearn import manifold, datasets\n"
   ]
  },
  {
   "cell_type": "markdown",
   "metadata": {},
   "source": [
    "We then make the s-curve based on the number of samples that we choose"
   ]
  },
  {
   "cell_type": "code",
   "execution_count": 33,
   "metadata": {},
   "outputs": [],
   "source": [
    "rng = RandomState(0)\n",
    "n_samples = 1500\n",
    "S_points, S_color = datasets.make_s_curve(n_samples, random_state=rng)\n"
   ]
  },
  {
   "cell_type": "markdown",
   "metadata": {},
   "source": [
    "Here are some functions that plot the data for us"
   ]
  },
  {
   "cell_type": "code",
   "execution_count": null,
   "metadata": {},
   "outputs": [],
   "source": [
    "def plot_3d(points, points_color, title):\n",
    "    x,y,z = points.T\n",
    "\n",
    "    fig, ax = plt.subplots(\n",
    "        figsize=(6, 6),\n",
    "        facecolor=\"white\",\n",
    "        tight_layout=True,\n",
    "        subplot_kw={\"projection\": \"3d\"},\n",
    "    )\n",
    "    fig.suptitle(title, size=16)\n",
    "\n",
    "    col= ax.scatter(z,y,z, c=points_color, s=50, alpha=0.8)\n",
    "    ax.view_init(azim=-60, elev=9)\n",
    "    ax.xaxis.set_major_locator(ticker.MultipleLocator(1))\n",
    "    ax.yaxis.set_major_locator(ticker.MultipleLocator(1))\n",
    "    ax.zaxis.set_major_locator(ticker.MultipleLocator(1))\n",
    "\n",
    "    fig.colorbar(col, ax=ax, orientation=\"horizontal\", shrink=0.6, aspect=60, pad=0.01)\n",
    "    plt.show()\n",
    "\n",
    "\n",
    "def add_2d_scatter(ax, points, points_color, title=None):\n",
    "    x, y = points.T\n",
    "    ax.scatter(x, y, c=points_color, s=50, alpha=0.8)\n",
    "    ax.set_title(title)\n",
    "    ax.xaxis.set_major_formatter(ticker.NullFormatter())\n",
    "    ax.yaxis.set_major_formatter(ticker.NullFormatter())\n",
    "\n",
    "\n",
    "def plot_2d(points, points_color, title):\n",
    "    fig, ax = plt.subplots(figsize=(3, 3), facecolor=\"white\", constrained_layout=True)\n",
    "    fig.suptitle(title, size=16)\n",
    "    add_2d_scatter(ax, points, points_color)\n",
    "    plt.show()\n",
    "\n",
    "\n",
    "plot_3d(S_points, S_color, \"Original S-curve data\")\n",
    "#apparently doesn't work in 3d as expected"
   ]
  },
  {
   "cell_type": "markdown",
   "metadata": {},
   "source": [
    "We choose the number of neighbors $K$ that we want to include. Choosing a high $K$ might not be a good idea. The number of components is the number of coordinates for the manifold.\n",
    "The class isomap gets initialized with the said parameters + $p=1$ which is equivalent to Manhattan distance"
   ]
  },
  {
   "cell_type": "code",
   "execution_count": null,
   "metadata": {},
   "outputs": [],
   "source": [
    "n_neighbors = 12\n",
    "n_components = 2\n",
    "\n",
    "isomap = manifold.Isomap(n_neighbors=n_neighbors, n_components=n_components, p=1)\n",
    "S_isomap = isomap.fit_transform(S_points)\n",
    "\n",
    "plot_2d(S_isomap, S_color, \"Isomap\")\n"
   ]
  },
  {
   "cell_type": "code",
   "execution_count": null,
   "metadata": {},
   "outputs": [],
   "source": [
    "#Here is an example of MDS, and as we will see, it will perform worse than isomap\n",
    "mds = manifold.MDS(n_components=n_components, max_iter=50, n_init=4, random_state=rng)\n",
    "S_mds = mds.fit_transform(S_points)\n",
    "plot_2d(S_mds, S_color, \"MDS\")"
   ]
  },
  {
   "cell_type": "markdown",
   "metadata": {},
   "source": [
    "### Severed sphere"
   ]
  },
  {
   "cell_type": "code",
   "execution_count": 11,
   "metadata": {},
   "outputs": [],
   "source": [
    "#License : BSD 3 clause\n",
    "\n",
    "from time import time\n",
    "import numpy as np\n",
    "from matplotlib.pyplot import NullFormatter\n",
    "from sklearn.utils import check_random_state\n",
    "import warnings\n"
   ]
  },
  {
   "cell_type": "code",
   "execution_count": null,
   "metadata": {},
   "outputs": [],
   "source": [
    "#now we can change the neigbors and samples size\n",
    "n_neighbors = 10\n",
    "n_components = 1000\n",
    "\n",
    "#create the sphere\n",
    "random_state = check_random_state(0)\n",
    "p = random_state.rand(n_samples) * (2 * np.pi - 0.55)\n",
    "t = random_state.rand(n_samples) * np.pi\n",
    "\n",
    "#sever the poles from the sphere\n",
    "indices = (t < (np.pi - (np.pi / 8))) & (t > ((np.pi / 8)))\n",
    "colors = p[indices]\n",
    "\n",
    "x, y, z =(\n",
    "    np.sin(t[indices]) * np.cos(p[indices]),\n",
    "    np.sin(t[indices]) * np.sin(p[indices]),\n",
    "    np.cos(t[indices]),\n",
    ")\n",
    "\n",
    "#dataset\n",
    "fig = plt.figure(figsize=(15,8))\n",
    "plt.suptitle(\n",
    "    \"Manifold Learning with %i points, %i neighbors\" % (1000, n_neighbors), fontsize=14\n",
    ")\n",
    "\n",
    "ax = fig.add_subplot(251, projection=\"3d\")\n",
    "ax.scatter(x, y, z, c=p[indices], cmap=plt.cm.rainbow)\n",
    "ax.view_init(40, -10)\n",
    "\n",
    "sphere_data = np.array([x, y, z]).T\n",
    "\n",
    "\n",
    "#isomap\n",
    "t0 = time()\n",
    "transformed_data = (\n",
    "    manifold.Isomap(n_neighbors=n_neighbors, n_components=2).fit_transform(sphere_data).T\n",
    ")\n",
    "t1=time()\n",
    "print(\"%s: %.2g sec\" % (\"ISO\", t1-t0))\n",
    "\n",
    "#plotting details\n",
    "ax = fig.add_subplot(257)\n",
    "plt.scatter(transformed_data[0], transformed_data[1], c=colors, cmap=plt.cm.rainbow)\n",
    "plt.title(\"%s (%.2g sec)\" % (\"Isomap\", t1 - t0))\n",
    "ax.xaxis.set_major_formatter(NullFormatter())\n",
    "ax.yaxis.set_major_formatter(NullFormatter())\n",
    "plt.axis(\"tight\")\n",
    "\n",
    "#mds\n",
    "t0 = time()\n",
    "mds = manifold.MDS(n_components=2, max_iter=100, n_init=1)\n",
    "transformed_data = mds.fit_transform(sphere_data).T\n",
    "t1=time()\n",
    "print(\"%s: %.2g sec\" % (\"MDS\", t1-t0))\n",
    "\n",
    "#plotting details\n",
    "ax = fig.add_subplot(258)\n",
    "plt.scatter(transformed_data[0], transformed_data[1], c=colors, cmap=plt.cm.rainbow)\n",
    "plt.title(\"MDS (%.2g sec)\" % (t1 - t0))\n",
    "ax.xaxis.set_major_formatter(NullFormatter())\n",
    "ax.yaxis.set_major_formatter(NullFormatter())\n",
    "plt.axis(\"tight\")\n",
    "\n",
    "\n",
    "plt.show()\n"
   ]
  },
  {
   "cell_type": "markdown",
   "metadata": {},
   "source": [
    "### Handwritten digits"
   ]
  },
  {
   "cell_type": "code",
   "execution_count": 17,
   "metadata": {},
   "outputs": [],
   "source": [
    "from sklearn.datasets import load_digits\n",
    "\n",
    "digits = load_digits(n_class=10)\n",
    "\n",
    "X, y = digits.data, digits.target\n",
    "n_samples , n_features = X.shape\n",
    "n_neighbors =30\n"
   ]
  },
  {
   "cell_type": "markdown",
   "metadata": {},
   "source": [
    "In case anyone is interested in seeing the data, one can run the following code snippet"
   ]
  },
  {
   "cell_type": "code",
   "execution_count": null,
   "metadata": {},
   "outputs": [],
   "source": [
    "fig, axs = plt.subplots(nrows=10,ncols=10,figsize=(6,6))\n",
    "for idx, ax in enumerate(axs.ravel()):\n",
    "    ax.imshow(X[idx].reshape((8, 8)), cmap=plt.cm.binary)\n",
    "    ax.axis(\"off\")\n",
    "_ = fig.suptitle(\"A selection from the 64-dimensional digits dataset\", fontsize=16)\n"
   ]
  },
  {
   "cell_type": "code",
   "execution_count": 31,
   "metadata": {},
   "outputs": [],
   "source": [
    "#imports\n",
    "from matplotlib import offsetbox\n",
    "from sklearn.preprocessing import MinMaxScaler\n",
    "from sklearn.manifold import (Isomap, MDS)\n",
    "\n",
    "#plot\n",
    "def plot_embedding(X, title):\n",
    "    _, ax = plt.subplots()\n",
    "    X = MinMaxScaler().fit_transform(X)\n",
    "\n",
    "    for digit in digits.target_names:\n",
    "        ax.scatter(\n",
    "            *X[y == digit].T,\n",
    "            marker=f\"${digit}$\",\n",
    "            s=60,\n",
    "            color=plt.cm.Dark2(digit),\n",
    "            alpha=0.425,\n",
    "            zorder=2,\n",
    "        )\n",
    "    shown_images = np.array([[1.0, 1.0]])  # just something big\n",
    "    for i in range(X.shape[0]):\n",
    "        # plot every digit on the embedding\n",
    "        # show an annotation box for a group of digits\n",
    "        dist = np.sum((X[i] - shown_images) ** 2, 1)\n",
    "        if np.min(dist) < 4e-3:\n",
    "            # don't show points that are too close\n",
    "            continue\n",
    "        shown_images = np.concatenate([shown_images, [X[i]]], axis=0)\n",
    "        imagebox = offsetbox.AnnotationBbox(\n",
    "            offsetbox.OffsetImage(digits.images[i], cmap=plt.cm.gray_r), X[i]\n",
    "        )\n",
    "        imagebox.set(zorder=1)\n",
    "        ax.add_artist(imagebox)\n",
    "\n",
    "    ax.set_title(title)\n",
    "    ax.axis(\"off\")\n"
   ]
  },
  {
   "cell_type": "markdown",
   "metadata": {},
   "source": [
    "As for now I don't understand the SMACOF algorithm which MDS uses. **n_jobs** refers to the number jobs to compute the algorithm. **n_init** refers to number of times that SMACOF is computed with different initializations. **max_iter** refers to the amount of iterations SMACOF runs for a single computation. "
   ]
  },
  {
   "cell_type": "code",
   "execution_count": null,
   "metadata": {},
   "outputs": [],
   "source": [
    "embeddings = {\n",
    "    \"Isomap\": Isomap(n_neighbors=n_neighbors, n_components=2),\n",
    "    \"MDS\": MDS(n_components=2, n_init=1, max_iter=120, n_jobs=2),\n",
    "}\n",
    "\n",
    "projections , timing = {}, {}\n",
    "for name, transformer in embeddings.items():\n",
    "    data = X\n",
    "\n",
    "    print(f\"Computing {name} method\")\n",
    "    t0=time()\n",
    "    projections[name]=transformer.fit_transform(data, y)\n",
    "    timing[name] = time() - t0\n",
    "\n",
    "\n",
    "for name in timing:\n",
    "    title = f\"{name} (time {timing[name]:.3f}s)\"\n",
    "    plot_embedding(projections[name], title)\n",
    "\n",
    "\n",
    "plt.show()"
   ]
  }
 ],
 "metadata": {
  "kernelspec": {
   "display_name": "Python 3.8.10 64-bit",
   "language": "python",
   "name": "python3"
  },
  "language_info": {
   "codemirror_mode": {
    "name": "ipython",
    "version": 3
   },
   "file_extension": ".py",
   "mimetype": "text/x-python",
   "name": "python",
   "nbconvert_exporter": "python",
   "pygments_lexer": "ipython3",
   "version": "3.8.10"
  },
  "orig_nbformat": 4,
  "vscode": {
   "interpreter": {
    "hash": "767d51c1340bd893661ea55ea3124f6de3c7a262a8b4abca0554b478b1e2ff90"
   }
  }
 },
 "nbformat": 4,
 "nbformat_minor": 2
}
