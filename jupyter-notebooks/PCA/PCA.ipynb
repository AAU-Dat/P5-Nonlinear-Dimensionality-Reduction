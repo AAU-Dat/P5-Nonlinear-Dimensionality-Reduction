{
 "cells": [
  {
   "cell_type": "code",
   "execution_count": 3,
   "metadata": {},
   "outputs": [
    {
     "data": {
      "text/plain": [
       "{'cells': [{'cell_type': 'code',\n",
       "   'execution_count': contextlib.nullcontext,\n",
       "   'metadata': {'collapsed': b'I00\\n'},\n",
       "   'outputs': [],\n",
       "   'source': ['%matplotlib inline']},\n",
       "  {'cell_type': 'markdown',\n",
       "   'metadata': {},\n",
       "   'source': ['\\n# Comparison of LDA and PCA 2D projection of Iris dataset\\n\\nThe Iris dataset represents 3 kind of Iris flowers (Setosa, Versicolour\\nand Virginica) with 4 attributes: sepal length, sepal width, petal length\\nand petal width.\\n\\nPrincipal Component Analysis (PCA) applied to this data identifies the\\ncombination of attributes (principal components, or directions in the\\nfeature space) that account for the most variance in the data. Here we\\nplot the different samples on the 2 first principal components.\\n\\nLinear Discriminant Analysis (LDA) tries to identify attributes that\\naccount for the most variance *between classes*. In particular,\\nLDA, in contrast to PCA, is a supervised method, using known class labels.\\n']},\n",
       "  {'cell_type': 'code',\n",
       "   'execution_count': contextlib.nullcontext,\n",
       "   'metadata': {'collapsed': b'I00\\n'},\n",
       "   'outputs': [],\n",
       "   'source': ['import matplotlib.pyplot as plt\\n\\nfrom sklearn import datasets\\nfrom sklearn.decomposition import PCA\\nfrom sklearn.discriminant_analysis import LinearDiscriminantAnalysis\\n\\niris = datasets.load_iris()\\n\\nX = iris.data\\ny = iris.target\\ntarget_names = iris.target_names\\n\\npca = PCA(n_components=2)\\nX_r = pca.fit(X).transform(X)\\n\\nlda = LinearDiscriminantAnalysis(n_components=2)\\nX_r2 = lda.fit(X, y).transform(X)\\n\\n# Percentage of variance explained for each components\\nprint(\\n    \"explained variance ratio (first two components): %s\"\\n    % str(pca.explained_variance_ratio_)\\n)\\n\\nplt.figure()\\ncolors = [\"navy\", \"turquoise\", \"darkorange\"]\\nlw = 2\\n\\nfor color, i, target_name in zip(colors, [0, 1, 2], target_names):\\n    plt.scatter(\\n        X_r[y == i, 0], X_r[y == i, 1], color=color, alpha=0.8, lw=lw, label=target_name\\n    )\\nplt.legend(loc=\"best\", shadow=False, scatterpoints=1)\\nplt.title(\"PCA of IRIS dataset\")\\n\\nplt.figure()\\nfor color, i, target_name in zip(colors, [0, 1, 2], target_names):\\n    plt.scatter(\\n        X_r2[y == i, 0], X_r2[y == i, 1], alpha=0.8, color=color, label=target_name\\n    )\\nplt.legend(loc=\"best\", shadow=False, scatterpoints=1)\\nplt.title(\"LDA of IRIS dataset\")\\n\\nplt.show()']}],\n",
       " 'metadata': {'kernelspec': {'display_name': 'Python 3',\n",
       "   'language': 'python',\n",
       "   'name': 'python3'},\n",
       "  'language_info': {'codemirror_mode': {'name': 'ipython', 'version': 3},\n",
       "   'file_extension': '.py',\n",
       "   'mimetype': 'text/x-python',\n",
       "   'name': 'python',\n",
       "   'nbconvert_exporter': 'python',\n",
       "   'pygments_lexer': 'ipython3',\n",
       "   'version': '3.9.13'}},\n",
       " 'nbformat': 4,\n",
       " 'nbformat_minor': 0}"
      ]
     },
     "execution_count": 3,
     "metadata": {},
     "output_type": "execute_result"
    }
   ],
   "source": [
    "from contextlib import nullcontext\n",
    "from pickle import FALSE\n",
    "\n",
    "\n",
    "{\n",
    "  \"cells\": [\n",
    "    {\n",
    "      \"cell_type\": \"code\",\n",
    "      \"execution_count\": nullcontext,\n",
    "      \"metadata\": {\n",
    "        \"collapsed\": FALSE\n",
    "      },\n",
    "      \"outputs\": [],\n",
    "      \"source\": [\n",
    "        \"%matplotlib inline\"\n",
    "      ]\n",
    "    },\n",
    "    {\n",
    "      \"cell_type\": \"markdown\",\n",
    "      \"metadata\": {},\n",
    "      \"source\": [ \n",
    "        \"\\n# Comparison of LDA and PCA 2D projection of Iris dataset\\n\\nThe Iris dataset represents 3 kind of Iris flowers (Setosa, Versicolour\\nand Virginica) with 4 attributes: sepal length, sepal width, petal length\\nand petal width.\\n\\nPrincipal Component Analysis (PCA) applied to this data identifies the\\ncombination of attributes (principal components, or directions in the\\nfeature space) that account for the most variance in the data. Here we\\nplot the different samples on the 2 first principal components.\\n\\nLinear Discriminant Analysis (LDA) tries to identify attributes that\\naccount for the most variance *between classes*. In particular,\\nLDA, in contrast to PCA, is a supervised method, using known class labels.\\n\"\n",
    "      ]\n",
    "    },\n",
    "    {\n",
    "      \"cell_type\": \"code\",\n",
    "      \"execution_count\": nullcontext,\n",
    "      \"metadata\": {\n",
    "        \"collapsed\": FALSE\n",
    "      },\n",
    "      \"outputs\": [],\n",
    "      \"source\": [\n",
    "        \"import matplotlib.pyplot as plt\\n\\nfrom sklearn import datasets\\nfrom sklearn.decomposition import PCA\\nfrom sklearn.discriminant_analysis import LinearDiscriminantAnalysis\\n\\niris = datasets.load_iris()\\n\\nX = iris.data\\ny = iris.target\\ntarget_names = iris.target_names\\n\\npca = PCA(n_components=2)\\nX_r = pca.fit(X).transform(X)\\n\\nlda = LinearDiscriminantAnalysis(n_components=2)\\nX_r2 = lda.fit(X, y).transform(X)\\n\\n# Percentage of variance explained for each components\\nprint(\\n    \\\"explained variance ratio (first two components): %s\\\"\\n    % str(pca.explained_variance_ratio_)\\n)\\n\\nplt.figure()\\ncolors = [\\\"navy\\\", \\\"turquoise\\\", \\\"darkorange\\\"]\\nlw = 2\\n\\nfor color, i, target_name in zip(colors, [0, 1, 2], target_names):\\n    plt.scatter(\\n        X_r[y == i, 0], X_r[y == i, 1], color=color, alpha=0.8, lw=lw, label=target_name\\n    )\\nplt.legend(loc=\\\"best\\\", shadow=False, scatterpoints=1)\\nplt.title(\\\"PCA of IRIS dataset\\\")\\n\\nplt.figure()\\nfor color, i, target_name in zip(colors, [0, 1, 2], target_names):\\n    plt.scatter(\\n        X_r2[y == i, 0], X_r2[y == i, 1], alpha=0.8, color=color, label=target_name\\n    )\\nplt.legend(loc=\\\"best\\\", shadow=False, scatterpoints=1)\\nplt.title(\\\"LDA of IRIS dataset\\\")\\n\\nplt.show()\"\n",
    "      ]\n",
    "    }\n",
    "  ],\n",
    "  \"metadata\": {\n",
    "    \"kernelspec\": {\n",
    "      \"display_name\": \"Python 3\",\n",
    "      \"language\": \"python\",\n",
    "      \"name\": \"python3\"\n",
    "    },\n",
    "    \"language_info\": {\n",
    "      \"codemirror_mode\": {\n",
    "        \"name\": \"ipython\",\n",
    "        \"version\": 3\n",
    "      },\n",
    "      \"file_extension\": \".py\",\n",
    "      \"mimetype\": \"text/x-python\",\n",
    "      \"name\": \"python\",\n",
    "      \"nbconvert_exporter\": \"python\",\n",
    "      \"pygments_lexer\": \"ipython3\",\n",
    "      \"version\": \"3.9.13\"\n",
    "    }\n",
    "  },\n",
    "  \"nbformat\": 4,\n",
    "  \"nbformat_minor\": 0\n",
    "}"
   ]
  }
 ],
 "metadata": {
  "kernelspec": {
   "display_name": "Python 3.8.10 64-bit",
   "language": "python",
   "name": "python3"
  },
  "language_info": {
   "codemirror_mode": {
    "name": "ipython",
    "version": 3
   },
   "file_extension": ".py",
   "mimetype": "text/x-python",
   "name": "python",
   "nbconvert_exporter": "python",
   "pygments_lexer": "ipython3",
   "version": "3.8.10"
  },
  "orig_nbformat": 4,
  "vscode": {
   "interpreter": {
    "hash": "e7370f93d1d0cde622a1f8e1c04877d8463912d04d973331ad4851f04de6915a"
   }
  }
 },
 "nbformat": 4,
 "nbformat_minor": 2
}
